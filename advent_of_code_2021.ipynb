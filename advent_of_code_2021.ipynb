{
 "cells": [
  {
   "cell_type": "markdown",
   "id": "5231daff",
   "metadata": {},
   "source": [
    "Uses https://github.com/Kotlin/kotlin-jupyter"
   ]
  },
  {
   "cell_type": "code",
   "execution_count": 1,
   "id": "a3a0e999",
   "metadata": {},
   "outputs": [],
   "source": [
    "// Setup\n",
    "import java.io.File"
   ]
  },
  {
   "cell_type": "code",
   "execution_count": 2,
   "id": "26c065ec",
   "metadata": {},
   "outputs": [
    {
     "name": "stdout",
     "output_type": "stream",
     "text": [
      "1692\n",
      "1724\n"
     ]
    }
   ],
   "source": [
    "// Day 1\n",
    "val readings = File(\"1.txt\").readLines().map { it.toInt() }\n",
    "val part1 = readings.windowed(2).count { (a, b) -> a < b }\n",
    "val part2 = readings.windowed(3).windowed(2).count { (a, b) -> a.sum() < b.sum() }\n",
    "\n",
    "println(part1)\n",
    "println(part2)"
   ]
  },
  {
   "cell_type": "code",
   "execution_count": 3,
   "id": "32745b97",
   "metadata": {},
   "outputs": [
    {
     "name": "stdout",
     "output_type": "stream",
     "text": [
      "2322630\n",
      "2105273490\n"
     ]
    }
   ],
   "source": [
    "// Day 2\n",
    "val moves = File(\"2.txt\").readLines().map { it.split(\" \") }\n",
    "var horizontal = 0\n",
    "var depth = 0\n",
    "var aim = 0\n",
    "\n",
    "// part 1\n",
    "moves.map { \n",
    "    val X = it.last().toInt()\n",
    "    when(it.first()) {\n",
    "        \"forward\" -> horizontal += X\n",
    "        \"up\"      -> depth -= X\n",
    "        \"down\"    -> depth += X\n",
    "    }\n",
    "}\n",
    "\n",
    "println(horizontal * depth)\n",
    "\n",
    "// part 2\n",
    "horizontal = 0\n",
    "depth = 0\n",
    "moves.map { \n",
    "    val X = it.last().toInt()\n",
    "    when(it.first()) {\n",
    "        \"forward\" -> { \n",
    "            horizontal += X\n",
    "            depth = depth + (aim * X)\n",
    "        }\n",
    "        \"up\"      -> aim -= X\n",
    "        \"down\"    -> aim += X\n",
    "    }\n",
    "}\n",
    "\n",
    "println(horizontal * depth)"
   ]
  },
  {
   "cell_type": "code",
   "execution_count": 5,
   "id": "6f35e988",
   "metadata": {},
   "outputs": [
    {
     "name": "stderr",
     "output_type": "stream",
     "text": [
      "Line_23.jupyter-kts (25:17 - 27:2) Destructuring declaration initializer of type Pair<Int, Int> must have a 'component3()' function\n",
      "Line_23.jupyter-kts (25:30 - 27:2) Type mismatch: inferred type is Unit but Pair<Int, Int> was expected\n",
      "Line_23.jupyter-kts (26:12 - 13) Destructuring declaration initializer of type Pair<Int, Int> must have a 'component3()' function\n",
      "Line_23.jupyter-kts (26:26 - 57) Type mismatch: inferred type is Triple<Int, ???, ???> but Pair<Int, Int> was expected\n",
      "Line_23.jupyter-kts (29:9 - 10) Overload resolution ambiguity: \n",
      "public final val h: Int defined in Line_23\n",
      "public final val h: Int defined in Line_23\n",
      "Line_23.jupyter-kts (29:13 - 14) Overload resolution ambiguity: \n",
      "public final val d: Int defined in Line_23\n",
      "public final val d: Int defined in Line_23"
     ]
    }
   ],
   "source": [
    "// Day 2 alternate functional\n",
    "\n",
    "val moves = File(\"2.txt\")\n",
    "    .readLines()\n",
    "    .map { it.split(\" \") }\n",
    "    .map { \n",
    "        val X = it[1].toInt()\n",
    "        when(it[0]) {\n",
    "            \"forward\" -> Pair(+X, 0)\n",
    "            \"up\" -> Pair(0, -X)\n",
    "            else -> Pair(0, +X)\n",
    "        }\n",
    "    }\n",
    "\n",
    "val (horizontal, depth) = moves.reduce { (h, d), (x, y) -> Pair(h + x, d + y) }\n",
    "println(horizontal * depth)\n",
    "\n",
    "val (h, d, a) = moves.fold(\n",
    "    initial = Triple(0, 0, 0),\n",
    "    operation = {\n",
    "        (h, d, a), (x, y) -> Triple(h + x, d + a * x, a + y)\n",
    "    }\n",
    ")\n",
    "\n",
    "val (h, d, a) = moves.reduce {\n",
    "    (h, d, a), (x, y) -> Triple(h + x, d + a * x, a + y)\n",
    "}\n",
    "\n",
    "println(h * d)"
   ]
  },
  {
   "cell_type": "code",
   "execution_count": null,
   "id": "8df6075b",
   "metadata": {},
   "outputs": [],
   "source": []
  }
 ],
 "metadata": {
  "kernelspec": {
   "display_name": "Kotlin",
   "language": "kotlin",
   "name": "kotlin"
  },
  "language_info": {
   "codemirror_mode": "text/x-kotlin",
   "file_extension": ".kt",
   "mimetype": "text/x-kotlin",
   "name": "kotlin",
   "nbconvert_exporter": "",
   "pygments_lexer": "kotlin",
   "version": "1.6.20-dev-6372"
  }
 },
 "nbformat": 4,
 "nbformat_minor": 5
}
