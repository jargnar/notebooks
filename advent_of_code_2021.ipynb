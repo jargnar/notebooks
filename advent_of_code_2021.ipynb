{
 "cells": [
  {
   "cell_type": "code",
   "execution_count": 1,
   "id": "26c065ec",
   "metadata": {},
   "outputs": [
    {
     "name": "stdout",
     "output_type": "stream",
     "text": [
      "1692\n",
      "1724\n"
     ]
    }
   ],
   "source": [
    "# Day 01\n",
    "readings = list(map(int, open(\"input.txt\").read().splitlines()))\n",
    "\n",
    "prev = readings[0]\n",
    "increases = 0\n",
    "for reading in readings[1:]:\n",
    "    if reading > prev:\n",
    "        increases += 1\n",
    "    prev = reading\n",
    "\n",
    "print(increases)\n",
    "\n",
    "increases = 0\n",
    "prev = sum(readings[:3])\n",
    "for i in range(1, len(readings) - 1):\n",
    "    curr = sum(readings[i:i + 3])\n",
    "    if curr > prev:\n",
    "        increases += 1\n",
    "    prev = curr\n",
    "\n",
    "print(increases)"
   ]
  },
  {
   "cell_type": "code",
   "execution_count": null,
   "id": "32745b97",
   "metadata": {},
   "outputs": [],
   "source": []
  }
 ],
 "metadata": {
  "kernelspec": {
   "display_name": "Python 3 (ipykernel)",
   "language": "python",
   "name": "python3"
  },
  "language_info": {
   "codemirror_mode": {
    "name": "ipython",
    "version": 3
   },
   "file_extension": ".py",
   "mimetype": "text/x-python",
   "name": "python",
   "nbconvert_exporter": "python",
   "pygments_lexer": "ipython3",
   "version": "3.8.11"
  }
 },
 "nbformat": 4,
 "nbformat_minor": 5
}
