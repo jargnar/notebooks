{
 "cells": [
  {
   "cell_type": "markdown",
   "id": "5231daff",
   "metadata": {},
   "source": [
    "Uses https://github.com/Kotlin/kotlin-jupyter"
   ]
  },
  {
   "cell_type": "code",
   "execution_count": 1,
   "id": "e8c9d0ce",
   "metadata": {},
   "outputs": [],
   "source": [
    "import java.io.File"
   ]
  },
  {
   "cell_type": "code",
   "execution_count": 2,
   "id": "26c065ec",
   "metadata": {},
   "outputs": [
    {
     "name": "stdout",
     "output_type": "stream",
     "text": [
      "1692\n",
      "1724\n"
     ]
    }
   ],
   "source": [
    "// Day 1\n",
    "\n",
    "val readings = File(\"1.txt\").readLines().map { it.toInt() }\n",
    "val part1 = readings.windowed(2).count { (a, b) -> a < b }\n",
    "val part2 = readings.windowed(3).windowed(2).count { (a, b) -> a.sum() < b.sum() }\n",
    "\n",
    "println(part1)\n",
    "println(part2)"
   ]
  },
  {
   "cell_type": "code",
   "execution_count": 3,
   "id": "32745b97",
   "metadata": {},
   "outputs": [
    {
     "name": "stdout",
     "output_type": "stream",
     "text": [
      "2322630\n",
      "2105273490\n"
     ]
    }
   ],
   "source": [
    "// Day 2\n",
    "\n",
    "val moves = File(\"2.txt\").readLines().map { it.split(\" \") }\n",
    "var horizontal = 0\n",
    "var depth = 0\n",
    "var aim = 0\n",
    "\n",
    "// part 1\n",
    "moves.map { \n",
    "    val X = it.last().toInt()\n",
    "    when(it.first()) {\n",
    "        \"forward\" -> horizontal += X\n",
    "        \"up\"      -> depth -= X\n",
    "        \"down\"    -> depth += X\n",
    "    }\n",
    "}\n",
    "\n",
    "println(horizontal * depth)\n",
    "\n",
    "// part 2\n",
    "horizontal = 0\n",
    "depth = 0\n",
    "moves.map { \n",
    "    val X = it.last().toInt()\n",
    "    when(it.first()) {\n",
    "        \"forward\" -> { \n",
    "            horizontal += X\n",
    "            depth = depth + (aim * X)\n",
    "        }\n",
    "        \"up\"      -> aim -= X\n",
    "        \"down\"    -> aim += X\n",
    "    }\n",
    "}\n",
    "\n",
    "println(horizontal * depth)"
   ]
  },
  {
   "cell_type": "code",
   "execution_count": 4,
   "id": "6f35e988",
   "metadata": {},
   "outputs": [
    {
     "name": "stdout",
     "output_type": "stream",
     "text": [
      "2322630\n",
      "2105273490\n"
     ]
    }
   ],
   "source": [
    "// Day 2 alternate functional\n",
    "\n",
    "val moves = File(\"2.txt\")\n",
    "    .readLines()\n",
    "    .map { it.split(\" \") }\n",
    "    .map { \n",
    "        val X = it[1].toInt()\n",
    "        when(it[0]) {\n",
    "            \"forward\" -> Pair(+X, 0)\n",
    "            \"up\" -> Pair(0, -X)\n",
    "            else -> Pair(0, +X)\n",
    "        }\n",
    "    }\n",
    "\n",
    "val (horizontal, depth) = moves.reduce { (h, d), (x, y) -> Pair(h + x, d + y) }\n",
    "println(horizontal * depth)\n",
    "\n",
    "val (h, d, a) = moves.fold(\n",
    "    initial = Triple(0, 0, 0),\n",
    "    operation = {\n",
    "        (h, d, a), (x, y) -> Triple(h + x, d + a * x, a + y)\n",
    "    }\n",
    ")\n",
    "\n",
    "println(h * d)"
   ]
  },
  {
   "cell_type": "code",
   "execution_count": 5,
   "id": "88f5e1e1",
   "metadata": {},
   "outputs": [
    {
     "data": {
      "text/plain": [
       "1702631502303"
      ]
     },
     "execution_count": 5,
     "metadata": {},
     "output_type": "execute_result"
    }
   ],
   "source": [
    "// Day 6\n",
    "\n",
    "var fishes = File(\"6.txt\")\n",
    "    .readLines()[0]\n",
    "    .split(\",\")\n",
    "    .map { it.toInt() }\n",
    "    .groupingBy { it }\n",
    "    .eachCount()\n",
    "    .mapValues { it -> it.value.toLong() }.toMutableMap()\n",
    "\n",
    "for ( i in 1..256 ) {\n",
    "    val spawns = fishes.getOrDefault(0, 0L)\n",
    "    val sevens = fishes.getOrDefault(7, 0L)\n",
    "    val zeroes = fishes.getOrDefault(0, 0L)\n",
    "    for ( j in 0..8 ) {\n",
    "        when(j) {\n",
    "            6    -> fishes[6] = sevens + zeroes\n",
    "            8    -> fishes[8] = spawns\n",
    "            else -> fishes[j] = fishes.getOrDefault(j + 1, 0L)\n",
    "        }\n",
    "    }\n",
    "}\n",
    "\n",
    "fishes.values.sum()"
   ]
  },
  {
   "cell_type": "code",
   "execution_count": 6,
   "id": "410107ca",
   "metadata": {},
   "outputs": [
    {
     "name": "stdout",
     "output_type": "stream",
     "text": [
      "355592\n",
      "101618069\n"
     ]
    }
   ],
   "source": [
    "// Day 7\n",
    "\n",
    "var positions = File(\"7.txt\")\n",
    "    .readLines()[0]\n",
    "    .split(\",\")\n",
    "    .map { it.toInt() }\n",
    "\n",
    "val median = positions\n",
    "    .sorted()\n",
    "    .let { (it[it.size / 2] + it[(it.size - 1) / 2]) / 2 }\n",
    "\n",
    "fun gauss(n: Int) = n * (n + 1) / 2\n",
    "\n",
    "println(positions.sumOf { abs(it - median) })\n",
    "println((1..positions.maxOrNull()!!).minOf { p -> positions.sumOf {  gauss(abs(p - it)) } })"
   ]
  },
  {
   "cell_type": "code",
   "execution_count": 7,
   "id": "ef0c50e7",
   "metadata": {},
   "outputs": [
    {
     "data": {
      "text/plain": [
       "554"
      ]
     },
     "execution_count": 7,
     "metadata": {},
     "output_type": "execute_result"
    }
   ],
   "source": [
    "// Day 8 part 1\n",
    "\n",
    "val signals = File(\"8.txt\").readLines()\n",
    "\n",
    "signals\n",
    "    .map { it.split(\" | \").last().split(\" \") }\n",
    "    .flatten()\n",
    "    .groupingBy { it.length }\n",
    "    .eachCount()\n",
    "    .filterKeys { it in listOf(2, 3, 4, 7) }\n",
    "    .values\n",
    "    .sum()\n",
    "\n"
   ]
  },
  {
   "cell_type": "code",
   "execution_count": 8,
   "id": "b04f6fa7",
   "metadata": {},
   "outputs": [
    {
     "name": "stdout",
     "output_type": "stream",
     "text": [
      "537\n"
     ]
    }
   ],
   "source": [
    "// Day 9 part 1\n",
    "\n",
    "val heights = File(\"9.txt\").readLines().map { it.toList().map { Character.getNumericValue(it) } }\n",
    "\n",
    "val row_size = heights.size\n",
    "val col_size = heights[0].size\n",
    "var low_pnts = mutableListOf<Int>()\n",
    "\n",
    "fun List<List<Int>>.at(i: Int, j: Int): Int {\n",
    "    val inf = 99999999\n",
    "    if (this.getOrNull(i).isNullOrEmpty()) return inf\n",
    "    else if (this[i].getOrNull(j) == null) return inf\n",
    "    else return this[i][j]\n",
    "}\n",
    "\n",
    "for (i in 0 until row_size) {\n",
    "    for (j in 0 until col_size) {\n",
    "        val neighbours = listOf(\n",
    "            heights.at(i - 1, j - 1), heights.at(i - 1, j), heights.at(i - 1, j + 1), \n",
    "            heights.at(i, j - 1), heights.at(i, j + 1),\n",
    "            heights.at(i + 1, j - 1), heights.at(i + 1, j), heights.at(i + 1, j + 1)\n",
    "        )\n",
    "        if (neighbours.all { it > heights[i][j] }) {\n",
    "            low_pnts += heights[i][j] + 1\n",
    "        }\n",
    "    }\n",
    "}\n",
    "\n",
    "println(low_pnts.sum())"
   ]
  },
  {
   "cell_type": "code",
   "execution_count": null,
   "id": "1b43b63a",
   "metadata": {},
   "outputs": [],
   "source": []
  }
 ],
 "metadata": {
  "kernelspec": {
   "display_name": "Kotlin",
   "language": "kotlin",
   "name": "kotlin"
  },
  "language_info": {
   "codemirror_mode": "text/x-kotlin",
   "file_extension": ".kt",
   "mimetype": "text/x-kotlin",
   "name": "kotlin",
   "nbconvert_exporter": "",
   "pygments_lexer": "kotlin",
   "version": "1.6.20-dev-6372"
  }
 },
 "nbformat": 4,
 "nbformat_minor": 5
}
